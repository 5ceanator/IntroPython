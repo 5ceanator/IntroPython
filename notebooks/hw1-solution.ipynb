{
 "cells": [
  {
   "cell_type": "markdown",
   "metadata": {},
   "source": [
    "## Problem 1"
   ]
  },
  {
   "cell_type": "code",
   "execution_count": 2,
   "metadata": {},
   "outputs": [],
   "source": [
    "i = 6\n",
    "j = 5\n",
    "my_sum = i + j\n",
    "my_dif = i - j\n",
    "my_mul = i * j\n",
    "my_div = i / j\n",
    "my_rem = i % j"
   ]
  },
  {
   "cell_type": "code",
   "execution_count": 4,
   "metadata": {},
   "outputs": [
    {
     "name": "stdout",
     "output_type": "stream",
     "text": [
      "The sum of 6 and 5 is 11\n",
      "The difference of 6 and 5 is 1\n",
      "The product of 6 and 5 is 30\n",
      "The quotient of 6 and 5 is 1.2000\n",
      "The remainder of 6 divide by 5 is 1\n"
     ]
    }
   ],
   "source": [
    "print('The sum of %d and %d is %d' % (i, j, my_sum))\n",
    "print('The difference of %d and %d is %d' % (i, j, my_dif))\n",
    "print('The product of %d and %d is %d' % (i, j, my_mul))\n",
    "print('The quotient of %d and %d is %6.4f' % (i, j, my_div))\n",
    "print('The remainder of %d divide by %d is %d' % (i, j, my_rem))"
   ]
  },
  {
   "cell_type": "markdown",
   "metadata": {},
   "source": [
    "## Problem 2"
   ]
  },
  {
   "cell_type": "code",
   "execution_count": 8,
   "metadata": {},
   "outputs": [
    {
     "name": "stdout",
     "output_type": "stream",
     "text": [
      "7 is an odd number\n"
     ]
    }
   ],
   "source": [
    "import random\n",
    "x = random.randint(1,10)\n",
    "if (x % 2 == 0):\n",
    "    print(x, 'is an even number')\n",
    "else:\n",
    "    print(x, 'is an odd number')"
   ]
  },
  {
   "cell_type": "markdown",
   "metadata": {},
   "source": [
    "## Problem 3"
   ]
  },
  {
   "cell_type": "code",
   "execution_count": 9,
   "metadata": {},
   "outputs": [],
   "source": [
    "def donuts(i):\n",
    "    prefix_str = 'Number of donuts:'\n",
    "    if (i < 10):\n",
    "        print('%s %d' % (prefix_str, i) )\n",
    "    else:\n",
    "        print(prefix_str, 'many')"
   ]
  },
  {
   "cell_type": "code",
   "execution_count": 10,
   "metadata": {},
   "outputs": [
    {
     "name": "stdout",
     "output_type": "stream",
     "text": [
      "Number of donuts: 4\n",
      "Number of donuts: 9\n",
      "Number of donuts: many\n",
      "Number of donuts: many\n"
     ]
    }
   ],
   "source": [
    "donuts(4)\n",
    "donuts(9)\n",
    "donuts(10)\n",
    "donuts(99)"
   ]
  },
  {
   "cell_type": "code",
   "execution_count": null,
   "metadata": {},
   "outputs": [],
   "source": []
  }
 ],
 "metadata": {
  "kernelspec": {
   "display_name": "Python 3",
   "language": "python",
   "name": "python3"
  },
  "language_info": {
   "codemirror_mode": {
    "name": "ipython",
    "version": 3
   },
   "file_extension": ".py",
   "mimetype": "text/x-python",
   "name": "python",
   "nbconvert_exporter": "python",
   "pygments_lexer": "ipython3",
   "version": "3.5.1"
  }
 },
 "nbformat": 4,
 "nbformat_minor": 2
}
