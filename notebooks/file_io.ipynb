{
 "cells": [
  {
   "cell_type": "code",
   "execution_count": 4,
   "metadata": {},
   "outputs": [
    {
     "name": "stdout",
     "output_type": "stream",
     "text": [
      "Enter the first number8\n",
      "Enter the second number9\n",
      "17\n",
      "Enter the first number3\n",
      "Enter the second number3\n",
      "6\n"
     ]
    }
   ],
   "source": [
    "for i in range(1,3):\n",
    "    x = input('Enter the first number')\n",
    "    y = input('Enter the second number')\n",
    "    z = int(x) + int(y)\n",
    "    print(z)"
   ]
  },
  {
   "cell_type": "code",
   "execution_count": 5,
   "metadata": {},
   "outputs": [
    {
     "name": "stdout",
     "output_type": "stream",
     "text": [
      "total 680\r\n",
      "-rw-rw-rw-@ 1 keemsunguk  staff  148575 Dec 21  2009 alice.txt\r\n",
      "-rw-r--r--@ 1 keemsunguk  staff     123 Dec 21  2009 small.txt\r\n",
      "-rw-r--r--@ 1 keemsunguk  staff  190926 Jul  8 22:37 tr_eikon_eod_data.csv\r\n"
     ]
    }
   ],
   "source": [
    "!ls -l ../data"
   ]
  },
  {
   "cell_type": "code",
   "execution_count": 6,
   "metadata": {},
   "outputs": [
    {
     "name": "stdout",
     "output_type": "stream",
     "text": [
      "We are not what we should be\n",
      "We are not what we need to be\n",
      "But at least we are not what we used to be\n",
      "  -- Football Coach\n",
      "\n",
      "\n"
     ]
    }
   ],
   "source": [
    "in_path = '../data/'\n",
    "with open(in_path+'small.txt', 'r') as rf:\n",
    "    text = rf.read()\n",
    "\n",
    "print(text)"
   ]
  },
  {
   "cell_type": "code",
   "execution_count": 7,
   "metadata": {},
   "outputs": [
    {
     "name": "stdout",
     "output_type": "stream",
     "text": [
      "We are not what we should be\n",
      "\n"
     ]
    }
   ],
   "source": [
    "in_path = '../data/'\n",
    "with open(in_path+'small.txt', 'r') as rf:\n",
    "    text = rf.readlines()   #Creates a list of strings from file\n",
    "\n",
    "print(text[0])"
   ]
  },
  {
   "cell_type": "code",
   "execution_count": 11,
   "metadata": {},
   "outputs": [
    {
     "name": "stdout",
     "output_type": "stream",
     "text": [
      "We are not what we should be\n",
      "\n",
      "We are not what we need to be\n",
      "\n",
      "But at least we are not what we used to be\n",
      "\n",
      "  -- Football Coach\n",
      "\n"
     ]
    }
   ],
   "source": [
    "for i in range(0, 4):\n",
    "    print(text[i])"
   ]
  },
  {
   "cell_type": "code",
   "execution_count": 13,
   "metadata": {},
   "outputs": [
    {
     "data": {
      "text/plain": [
       "5"
      ]
     },
     "execution_count": 13,
     "metadata": {},
     "output_type": "execute_result"
    }
   ],
   "source": [
    "len(text)"
   ]
  },
  {
   "cell_type": "code",
   "execution_count": 14,
   "metadata": {},
   "outputs": [
    {
     "name": "stdout",
     "output_type": "stream",
     "text": [
      "We are not what we should be\n",
      "\n",
      "We are not what we need to be\n",
      "\n",
      "But at least we are not what we used to be\n",
      "\n",
      "  -- Football Coach\n",
      "\n",
      "\n",
      "\n"
     ]
    }
   ],
   "source": [
    "for i in range(0,len(text)):\n",
    "    print(text[i])"
   ]
  },
  {
   "cell_type": "code",
   "execution_count": 20,
   "metadata": {},
   "outputs": [
    {
     "name": "stdout",
     "output_type": "stream",
     "text": [
      "['We are not what we should be\\n', 'We are not what we need to be\\n', 'But at least we are not what we used to be\\n', '  -- Football Coach\\n', '\\n']\n"
     ]
    }
   ],
   "source": [
    "print(text)"
   ]
  },
  {
   "cell_type": "code",
   "execution_count": 17,
   "metadata": {},
   "outputs": [
    {
     "name": "stdout",
     "output_type": "stream",
     "text": [
      "WE ARE NOT WHAT WE SHOULD BE\n",
      "\n",
      "we are not what we should be\n",
      "\n",
      "WE ARE NOT WHAT WE NEED TO BE\n",
      "\n",
      "we are not what we need to be\n",
      "\n",
      "BUT AT LEAST WE ARE NOT WHAT WE USED TO BE\n",
      "\n",
      "but at least we are not what we used to be\n",
      "\n",
      "  -- FOOTBALL COACH\n",
      "\n",
      "  -- football coach\n",
      "\n",
      "\n",
      "\n",
      "\n",
      "\n"
     ]
    }
   ],
   "source": [
    "for line in text:\n",
    "    print(line.upper())\n",
    "    print(line.lower())"
   ]
  },
  {
   "cell_type": "code",
   "execution_count": 21,
   "metadata": {},
   "outputs": [
    {
     "name": "stdout",
     "output_type": "stream",
     "text": [
      "We are not what we should be 28\n",
      "We are not what we need to be 29\n",
      "But at least we are not what we used to be 42\n",
      "  -- Football Coach 19\n",
      " 0\n"
     ]
    }
   ],
   "source": [
    "for line in text:\n",
    "    ln = line.replace('\\n', '')\n",
    "    print(ln, len(ln))"
   ]
  },
  {
   "cell_type": "code",
   "execution_count": 24,
   "metadata": {},
   "outputs": [
    {
     "data": {
      "text/plain": [
       "'We are not what we need to be'"
      ]
     },
     "execution_count": 24,
     "metadata": {},
     "output_type": "execute_result"
    }
   ],
   "source": [
    "ln = text[1].replace('\\n', '')\n",
    "ln"
   ]
  },
  {
   "cell_type": "code",
   "execution_count": 26,
   "metadata": {},
   "outputs": [
    {
     "data": {
      "text/plain": [
       "8"
      ]
     },
     "execution_count": 26,
     "metadata": {},
     "output_type": "execute_result"
    }
   ],
   "source": [
    "words = ln.split(' ')\n",
    "len(words)"
   ]
  },
  {
   "cell_type": "code",
   "execution_count": 35,
   "metadata": {},
   "outputs": [
    {
     "name": "stdout",
     "output_type": "stream",
     "text": [
      "We are not what we should be 7\n",
      "We are not what we need to be 8\n",
      "But at least we are not what we used to be 11\n",
      "-- Football Coach 3\n"
     ]
    }
   ],
   "source": [
    "for line in text:\n",
    "    ln = line.replace('\\n', '')\n",
    "    ln = ln.strip(' ')\n",
    "    \n",
    "    if len(ln) > 0:\n",
    "        words = ln.split(' ')\n",
    "        print(ln, len(words))"
   ]
  },
  {
   "cell_type": "code",
   "execution_count": 33,
   "metadata": {},
   "outputs": [
    {
     "data": {
      "text/plain": [
       "0"
      ]
     },
     "execution_count": 33,
     "metadata": {},
     "output_type": "execute_result"
    }
   ],
   "source": [
    "len(text[4].replace('\\n',''))"
   ]
  },
  {
   "cell_type": "code",
   "execution_count": 44,
   "metadata": {},
   "outputs": [
    {
     "name": "stdout",
     "output_type": "stream",
     "text": [
      "We are not what we should be\n",
      "We are not what we need to be\n",
      "But at least we are not what we used to be\n",
      "  -- Football Coach\n",
      "\n",
      "\n",
      "26\n",
      "26\n"
     ]
    }
   ],
   "source": [
    "in_path = '../data/'\n",
    "with open(in_path+'small.txt', 'r') as rf:\n",
    "    book = rf.read()\n",
    "\n",
    "print(book)\n",
    "print(book.find('be'))\n",
    "\n",
    "book[11+len('be'):]\n",
    "print(book.find('be'))\n"
   ]
  },
  {
   "cell_type": "code",
   "execution_count": 46,
   "metadata": {},
   "outputs": [
    {
     "data": {
      "text/plain": [
       "'we are not what we should be\\nwe are not what we need to be\\nbut at least we are not what we used to be\\n  -- football coach\\n\\n'"
      ]
     },
     "execution_count": 46,
     "metadata": {},
     "output_type": "execute_result"
    }
   ],
   "source": [
    "sml_book = book.lower()\n",
    "sml_book"
   ]
  },
  {
   "cell_type": "code",
   "execution_count": 48,
   "metadata": {},
   "outputs": [],
   "source": [
    "with open(in_path+'small_book.txt', 'w') as wf:\n",
    "    wf.write(sml_book)"
   ]
  },
  {
   "cell_type": "code",
   "execution_count": 53,
   "metadata": {},
   "outputs": [
    {
     "name": "stdout",
     "output_type": "stream",
     "text": [
      "4\n",
      "8\n",
      "10\n",
      "10\n",
      "9\n",
      "10\n",
      "9\n",
      "9\n",
      "6\n",
      "10\n",
      "9\n",
      "2\n",
      "7\n",
      "Howmany loops 13\n"
     ]
    }
   ],
   "source": [
    "import random\n",
    "\n",
    "i = 2\n",
    "counter = 0\n",
    "while i%7 != 0:\n",
    "    i = random.randint(1,10)\n",
    "    print(i)\n",
    "    counter += 1\n",
    "print('Howmany loops', counter)"
   ]
  },
  {
   "cell_type": "markdown",
   "metadata": {},
   "source": [
    "## Read csv file"
   ]
  },
  {
   "cell_type": "code",
   "execution_count": 62,
   "metadata": {},
   "outputs": [],
   "source": [
    "# comment\n",
    "data = []  #create an empty list\n",
    "with open(in_path+'tr_eikon_eod_data.csv', 'r') as rf:\n",
    "    text_list = rf.readlines()\n",
    "    for ln in text_list:\n",
    "        data.append(ln.split(','))"
   ]
  },
  {
   "cell_type": "code",
   "execution_count": 79,
   "metadata": {},
   "outputs": [
    {
     "data": {
      "text/plain": [
       "170637.45987871129"
      ]
     },
     "execution_count": 79,
     "metadata": {},
     "output_type": "execute_result"
    }
   ],
   "source": [
    "import pandas as pd\n",
    "data_df = pd.DataFrame(data[1:],columns=data[0])\n",
    "data_df.set_index('Date', inplace=True)\n",
    "total = data_df['AAPL.O'].astype(float).sum()\n",
    "total"
   ]
  },
  {
   "cell_type": "code",
   "execution_count": 58,
   "metadata": {},
   "outputs": [],
   "source": [
    "demo_list = [[1,2,3],\n",
    "             [4,5,6]]"
   ]
  },
  {
   "cell_type": "code",
   "execution_count": 59,
   "metadata": {},
   "outputs": [
    {
     "data": {
      "text/plain": [
       "[4, 5, 6]"
      ]
     },
     "execution_count": 59,
     "metadata": {},
     "output_type": "execute_result"
    }
   ],
   "source": [
    "demo_list[1]"
   ]
  },
  {
   "cell_type": "code",
   "execution_count": 60,
   "metadata": {},
   "outputs": [
    {
     "data": {
      "text/plain": [
       "5"
      ]
     },
     "execution_count": 60,
     "metadata": {},
     "output_type": "execute_result"
    }
   ],
   "source": [
    "demo_list[1][1]"
   ]
  },
  {
   "cell_type": "code",
   "execution_count": 80,
   "metadata": {},
   "outputs": [],
   "source": [
    "dic = {'msft': 30, 'aapl': 25, 'amzn':200}  #key-value pair"
   ]
  },
  {
   "cell_type": "code",
   "execution_count": 81,
   "metadata": {},
   "outputs": [
    {
     "data": {
      "text/plain": [
       "25"
      ]
     },
     "execution_count": 81,
     "metadata": {},
     "output_type": "execute_result"
    }
   ],
   "source": [
    "dic['aapl']"
   ]
  },
  {
   "cell_type": "code",
   "execution_count": null,
   "metadata": {},
   "outputs": [],
   "source": []
  }
 ],
 "metadata": {
  "kernelspec": {
   "display_name": "Python 3",
   "language": "python",
   "name": "python3"
  },
  "language_info": {
   "codemirror_mode": {
    "name": "ipython",
    "version": 3
   },
   "file_extension": ".py",
   "mimetype": "text/x-python",
   "name": "python",
   "nbconvert_exporter": "python",
   "pygments_lexer": "ipython3",
   "version": "3.5.1"
  }
 },
 "nbformat": 4,
 "nbformat_minor": 2
}
