{
 "cells": [
  {
   "cell_type": "code",
   "execution_count": 1,
   "metadata": {},
   "outputs": [],
   "source": [
    "in_path = '../data/'"
   ]
  },
  {
   "cell_type": "code",
   "execution_count": 2,
   "metadata": {},
   "outputs": [],
   "source": [
    "# comment\n",
    "data = []  #create an empty list\n",
    "with open(in_path+'tr_eikon_eod_data.csv', 'r') as rf:\n",
    "    text_list = rf.readlines()\n",
    "    for ln in text_list:\n",
    "        data.append(ln.split(','))"
   ]
  },
  {
   "cell_type": "code",
   "execution_count": 4,
   "metadata": {},
   "outputs": [
    {
     "data": {
      "text/plain": [
       "170637.45987871129"
      ]
     },
     "execution_count": 4,
     "metadata": {},
     "output_type": "execute_result"
    }
   ],
   "source": [
    "import pandas as pd\n",
    "data_df = pd.DataFrame(data[1:],columns=data[0])\n",
    "data_df.set_index('Date', inplace=True)\n",
    "total = data_df['AAPL.O'].astype(float).sum()\n",
    "total"
   ]
  },
  {
   "cell_type": "code",
   "execution_count": 7,
   "metadata": {},
   "outputs": [
    {
     "data": {
      "text/plain": [
       "(1972, 12)"
      ]
     },
     "execution_count": 7,
     "metadata": {},
     "output_type": "execute_result"
    }
   ],
   "source": [
    "data_df.shape"
   ]
  },
  {
   "cell_type": "code",
   "execution_count": 8,
   "metadata": {},
   "outputs": [
    {
     "data": {
      "text/plain": [
       "Index(['AAPL.O', 'MSFT.O', 'INTC.O', 'AMZN.O', 'GS.N', 'SPY', '.SPX', '.VIX',\n",
       "       'EUR=', 'XAU=', 'GDX', 'GLD\\n'],\n",
       "      dtype='object')"
      ]
     },
     "execution_count": 8,
     "metadata": {},
     "output_type": "execute_result"
    }
   ],
   "source": [
    "data_df.columns"
   ]
  },
  {
   "cell_type": "code",
   "execution_count": 12,
   "metadata": {},
   "outputs": [
    {
     "name": "stdout",
     "output_type": "stream",
     "text": [
      "AAPL.O Average:   86.530\n",
      "MSFT.O Average:   40.587\n",
      "INTC.O Average:   27.701\n",
      "AMZN.O Average:  401.154\n",
      "GS.N Average:  163.615\n",
      "SPY Average:  172.835\n",
      ".SPX Average: 1727.538\n",
      ".VIX Average:   17.209\n",
      "EUR= Average:    1.253\n",
      "XAU= Average: 1352.472\n",
      "GDX Average:   34.499\n",
      "GLD\n",
      " Average:  130.602\n"
     ]
    }
   ],
   "source": [
    "for ticker in list(data_df.columns):\n",
    "    avg = data_df[ticker].astype(float).mean()\n",
    "    print('%s Average: %8.3f' % (ticker, avg))"
   ]
  },
  {
   "cell_type": "code",
   "execution_count": null,
   "metadata": {},
   "outputs": [],
   "source": []
  }
 ],
 "metadata": {
  "kernelspec": {
   "display_name": "Python 3",
   "language": "python",
   "name": "python3"
  },
  "language_info": {
   "codemirror_mode": {
    "name": "ipython",
    "version": 3
   },
   "file_extension": ".py",
   "mimetype": "text/x-python",
   "name": "python",
   "nbconvert_exporter": "python",
   "pygments_lexer": "ipython3",
   "version": "3.5.1"
  }
 },
 "nbformat": 4,
 "nbformat_minor": 2
}
