{
 "cells": [
  {
   "cell_type": "code",
   "execution_count": 5,
   "metadata": {},
   "outputs": [],
   "source": [
    "import pandas"
   ]
  },
  {
   "cell_type": "code",
   "execution_count": 6,
   "metadata": {},
   "outputs": [],
   "source": [
    "in_path = '/Users/keemsunguk/projects/intro/data/'\n",
    "with open(in_path+'alice.txt', 'r') as rf:\n",
    "    alice_book_list = rf.readlines()"
   ]
  },
  {
   "cell_type": "code",
   "execution_count": 7,
   "metadata": {},
   "outputs": [
    {
     "name": "stdout",
     "output_type": "stream",
     "text": [
      "Total number of line in Alice: 3600\n"
     ]
    }
   ],
   "source": [
    "print('Total number of line in Alice:', len(alice_book_list))"
   ]
  },
  {
   "cell_type": "code",
   "execution_count": 8,
   "metadata": {},
   "outputs": [
    {
     "name": "stdout",
     "output_type": "stream",
     "text": [
      "Total number of words in Alice:  28334\n"
     ]
    }
   ],
   "source": [
    "word_count = 0\n",
    "for line in alice_book_list:\n",
    "    word_count += len(line.strip(' ').split(' '))\n",
    "\n",
    "print('Total number of words in Alice: ', word_count)"
   ]
  },
  {
   "cell_type": "code",
   "execution_count": 9,
   "metadata": {},
   "outputs": [],
   "source": [
    "with open(in_path+'alice.txt', 'r') as rf:\n",
    "    alice_book = rf.read()\n",
    "    alice_book = alice_book.upper()\n",
    "    with open(in_path+'ALICE_allCap.TXT', 'w') as wf:\n",
    "        wf.write(alice_book)"
   ]
  },
  {
   "cell_type": "code",
   "execution_count": 10,
   "metadata": {},
   "outputs": [
    {
     "data": {
      "text/plain": [
       "207"
      ]
     },
     "execution_count": 10,
     "metadata": {},
     "output_type": "execute_result"
    }
   ],
   "source": [
    "i = alice_book.upper().find('CHAPTER')\n",
    "i"
   ]
  },
  {
   "cell_type": "code",
   "execution_count": 11,
   "metadata": {},
   "outputs": [
    {
     "name": "stdout",
     "output_type": "stream",
     "text": [
      "Total number of chapters: 12\n"
     ]
    }
   ],
   "source": [
    "no_of_chapters = 0\n",
    "i = 0\n",
    "while (i != -1):\n",
    "    i = alice_book.upper().find('CHAPTER')\n",
    "    if i  > 0:\n",
    "        no_of_chapters += 1\n",
    "        alice_book = alice_book[i+7:]\n",
    "print('Total number of chapters:', no_of_chapters)"
   ]
  },
  {
   "cell_type": "code",
   "execution_count": null,
   "metadata": {},
   "outputs": [],
   "source": []
  }
 ],
 "metadata": {
  "kernelspec": {
   "display_name": "Python 3",
   "language": "python",
   "name": "python3"
  },
  "language_info": {
   "codemirror_mode": {
    "name": "ipython",
    "version": 3
   },
   "file_extension": ".py",
   "mimetype": "text/x-python",
   "name": "python",
   "nbconvert_exporter": "python",
   "pygments_lexer": "ipython3",
   "version": "3.5.1"
  }
 },
 "nbformat": 4,
 "nbformat_minor": 2
}
